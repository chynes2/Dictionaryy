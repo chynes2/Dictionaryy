{
 "cells": [
  {
   "cell_type": "code",
   "execution_count": 4,
   "metadata": {
    "collapsed": true
   },
   "outputs": [],
   "source": [
    "from PyDictionary import PyDictionary\n",
    "from wordnik import *\n",
    "import pandas as pd"
   ]
  },
  {
   "cell_type": "code",
   "execution_count": 2,
   "metadata": {
    "collapsed": true
   },
   "outputs": [],
   "source": [
    "client_1 = (\"PyDictionary\", PyDictionary())"
   ]
  },
  {
   "cell_type": "code",
   "execution_count": 3,
   "metadata": {},
   "outputs": [
    {
     "name": "stderr",
     "output_type": "stream",
     "text": [
      "C:\\Users\\594886\\AppData\\Local\\Continuum\\anaconda3\\lib\\site-packages\\bs4\\__init__.py:181: UserWarning: No parser was explicitly specified, so I'm using the best available HTML parser for this system (\"lxml\"). This usually isn't a problem, but if you run this code on another system, or in a different virtual environment, it may use a different parser and behave differently.\n",
      "\n",
      "The code that caused this warning is on line 193 of the file C:\\Users\\594886\\AppData\\Local\\Continuum\\anaconda3\\lib\\runpy.py. To get rid of this warning, change code that looks like this:\n",
      "\n",
      " BeautifulSoup(YOUR_MARKUP})\n",
      "\n",
      "to this:\n",
      "\n",
      " BeautifulSoup(YOUR_MARKUP, \"lxml\")\n",
      "\n",
      "  markup_type=markup_type))\n"
     ]
    },
    {
     "data": {
      "text/plain": [
       "{'Noun': ['an increase by natural growth or addition',\n",
       "  'something contributing to growth or increase',\n",
       "  '(astronomy) the formation of a celestial object by the effect of gravity pulling together surrounding objects and gases',\n",
       "  '(biology) growth by addition as by the adhesion of parts or particles',\n",
       "  '(geology) an increase in land resulting from alluvial deposits or waterborne sediment',\n",
       "  \"(law) an increase in a beneficiary's share in an estate (as when a co-beneficiary dies or fails to meet some condition or rejects the inheritance)\"]}"
      ]
     },
     "execution_count": 3,
     "metadata": {},
     "output_type": "execute_result"
    }
   ],
   "source": [
    "client_1[1].meaning('accretion')"
   ]
  },
  {
   "cell_type": "code",
   "execution_count": 5,
   "metadata": {},
   "outputs": [
    {
     "data": {
      "text/html": [
       "<div>\n",
       "<style scoped>\n",
       "    .dataframe tbody tr th:only-of-type {\n",
       "        vertical-align: middle;\n",
       "    }\n",
       "\n",
       "    .dataframe tbody tr th {\n",
       "        vertical-align: top;\n",
       "    }\n",
       "\n",
       "    .dataframe thead th {\n",
       "        text-align: right;\n",
       "    }\n",
       "</style>\n",
       "<table border=\"1\" class=\"dataframe\">\n",
       "  <thead>\n",
       "    <tr style=\"text-align: right;\">\n",
       "      <th></th>\n",
       "      <th>Word</th>\n",
       "      <th>Definition</th>\n",
       "    </tr>\n",
       "  </thead>\n",
       "  <tbody>\n",
       "    <tr>\n",
       "      <th>0</th>\n",
       "      <td>aberration</td>\n",
       "      <td>{'Noun': ['a state or condition markedly diffe...</td>\n",
       "    </tr>\n",
       "    <tr>\n",
       "      <th>1</th>\n",
       "      <td>abject</td>\n",
       "      <td>{'Adjective': ['of the most contemptible kind'...</td>\n",
       "    </tr>\n",
       "    <tr>\n",
       "      <th>2</th>\n",
       "      <td>abjure</td>\n",
       "      <td>{'Verb': ['formally reject or disavow a former...</td>\n",
       "    </tr>\n",
       "    <tr>\n",
       "      <th>3</th>\n",
       "      <td>ablated</td>\n",
       "      <td>{'Verb': ['wear away through erosion or vapori...</td>\n",
       "    </tr>\n",
       "    <tr>\n",
       "      <th>4</th>\n",
       "      <td>ablution</td>\n",
       "      <td>{'Noun': [\"the ritual washing of a priest's ha...</td>\n",
       "    </tr>\n",
       "  </tbody>\n",
       "</table>\n",
       "</div>"
      ],
      "text/plain": [
       "         Word                                         Definition\n",
       "0  aberration  {'Noun': ['a state or condition markedly diffe...\n",
       "1      abject  {'Adjective': ['of the most contemptible kind'...\n",
       "2      abjure  {'Verb': ['formally reject or disavow a former...\n",
       "3     ablated  {'Verb': ['wear away through erosion or vapori...\n",
       "4    ablution  {'Noun': [\"the ritual washing of a priest's ha..."
      ]
     },
     "execution_count": 5,
     "metadata": {},
     "output_type": "execute_result"
    }
   ],
   "source": [
    "d = pd.read_csv('data/My_Dictionary.csv')\n",
    "d.head()"
   ]
  },
  {
   "cell_type": "code",
   "execution_count": 6,
   "metadata": {},
   "outputs": [
    {
     "data": {
      "text/plain": [
       "0         aberration\n",
       "1             abject\n",
       "2             abjure\n",
       "3            ablated\n",
       "4           ablution\n",
       "5         abnegation\n",
       "6           abrogate\n",
       "7            abscond\n",
       "8           abstruse\n",
       "9             accede\n",
       "10            accost\n",
       "11         accretion\n",
       "12              acme\n",
       "13          acrimony\n",
       "14            acumen\n",
       "15           adamant\n",
       "16           adenoid\n",
       "17         adenoidal\n",
       "18              adit\n",
       "19            adroit\n",
       "20         adumbrate\n",
       "21       advertorial\n",
       "22             aegis\n",
       "23          afflated\n",
       "24          afflatus\n",
       "25          agnation\n",
       "26          alacrity\n",
       "27          aleatory\n",
       "28        amanuensis\n",
       "29     anachronistic\n",
       "           ...      \n",
       "410             tyro\n",
       "411         tyronism\n",
       "412            umbra\n",
       "413         umbrella\n",
       "414         unbidden\n",
       "415          uncouth\n",
       "416         unctuous\n",
       "417           urbane\n",
       "418          vacuole\n",
       "419           valise\n",
       "420            vapid\n",
       "421           vellum\n",
       "422       veneration\n",
       "423          verdant\n",
       "424        verdigris\n",
       "425          verdure\n",
       "426          vestige\n",
       "427           vestry\n",
       "428     vicissitudes\n",
       "429         virulent\n",
       "430          vitiate\n",
       "431         vitiated\n",
       "432       vivisected\n",
       "433         votaries\n",
       "434          vulgate\n",
       "435           wallet\n",
       "436          winsome\n",
       "437        xerophagy\n",
       "438         yarmulke\n",
       "439        zygomatic\n",
       "Name: Word, Length: 440, dtype: object"
      ]
     },
     "execution_count": 6,
     "metadata": {},
     "output_type": "execute_result"
    }
   ],
   "source": [
    "d.Word"
   ]
  },
  {
   "cell_type": "code",
   "execution_count": null,
   "metadata": {
    "collapsed": true
   },
   "outputs": [],
   "source": []
  }
 ],
 "metadata": {
  "kernelspec": {
   "display_name": "Python 3",
   "language": "python",
   "name": "python3"
  },
  "language_info": {
   "codemirror_mode": {
    "name": "ipython",
    "version": 3
   },
   "file_extension": ".py",
   "mimetype": "text/x-python",
   "name": "python",
   "nbconvert_exporter": "python",
   "pygments_lexer": "ipython3",
   "version": "3.6.3"
  }
 },
 "nbformat": 4,
 "nbformat_minor": 2
}
