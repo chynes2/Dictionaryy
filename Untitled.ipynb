{
 "cells": [
  {
   "cell_type": "code",
   "execution_count": 45,
   "metadata": {
    "collapsed": true
   },
   "outputs": [],
   "source": [
    "import pandas as pd"
   ]
  },
  {
   "cell_type": "code",
   "execution_count": 49,
   "metadata": {
    "collapsed": true
   },
   "outputs": [],
   "source": [
    "from wordnik import *\n",
    "apiUrl = 'http://api.wordnik.com/v4'\n",
    "apiKey = '263a2b19c795b9844520302bf530266a76754c313e57a5b2d'\n",
    "client = swagger.ApiClient(apiKey, apiUrl)"
   ]
  },
  {
   "cell_type": "code",
   "execution_count": 65,
   "metadata": {},
   "outputs": [
    {
     "name": "stdout",
     "output_type": "stream",
     "text": [
      "<wordnik.swagger.ApiClient object at 0x11850e0f0>\n"
     ]
    }
   ],
   "source": [
    "client_1 = (\"PyDictionary\", PyDictionary())\n",
    "\n",
    "apiUrl = 'http://api.wordnik.com/v4'\n",
    "apiKey = '263a2b19c795b9844520302bf530266a76754c313e57a5b2d'\n",
    "client_2 = (\"Wordnik\", swagger.ApiClient(apiKey, apiUrl))\n",
    "\n",
    "clients = dict([client_1, client_2])\n",
    "print(clients['Wordnik'].getD)"
   ]
  },
  {
   "cell_type": "code",
   "execution_count": 62,
   "metadata": {
    "scrolled": true
   },
   "outputs": [
    {
     "name": "stdout",
     "output_type": "stream",
     "text": [
      "sangfroid\n",
      "In the weeks and months following Laird's arrival, Padnos watched as Laird developed a kind of sangfroid in his new role as a criminal.\n",
      "noun\n",
      "composure, self-possession or imperturbability especially when in a dangerous situation\n",
      "[] \n",
      "\n",
      "unbidden\n",
      "A waiter, again unbidden, brought the chessboard and the current issue of the Times, with the page turned down at the chess problem.\n",
      "adjective\n",
      "Not invited, asked, or requested; unasked:  unbidden guests; comments unbid and unwelcome. \n",
      "[] \n",
      "\n",
      "impartible\n",
      "The remaining farming class in Ireland was more inclined to practice impartible inheritance and primogeniture: one son inherited, and represented an eligible partner for one daughter of another farming family, who was, in turn, expected to bring with her a sizeable dowry.\n",
      "adjective\n",
      "Not partible; indivisible:  an impartible inheritance. \n",
      "[] \n",
      "\n",
      "catastatic\n",
      "--DNFEEE\n",
      "None\n",
      "Of or relating to catastates.\n",
      "[] \n",
      "\n",
      "exordial\n",
      "But the greatest underweening of this life is to undervalue that, unto which this is but exordial or a passage leading unto it.\n",
      "adjective\n",
      "of or relating to an exordium, beginning or introduction\n",
      "[] \n",
      "\n",
      "pomander\n",
      "Well, you might keep the pomander, which is pure gold engraved with ancient signs and the name of the Shining Dawn, Dahana, in Sanskrit characters.\n",
      "noun\n",
      "A mixture of aromatic substances enclosed in a bag or box as a protection against odor or infection, formerly worn on one's person but now usually placed in a dresser drawer or closet.\n",
      "[] \n",
      "\n",
      "noun\n",
      "A case, box, or bag for holding this mixture.\n",
      "[] \n",
      "\n",
      "increscent\n",
      "For I assure you that the horror I then conceived for those pale botanical specimens in their pestiferous and increscent abundance, exceeded what words can describe.\n",
      "adjective\n",
      "Showing a progressively larger lighted surface; waxing:  the increscent moon. \n",
      "[] \n",
      "\n",
      "afflated\n",
      "And even Hemingway at his most afflated never talked of going one on one with Finnegans Wake.\n",
      "verb\n",
      "Simple past tense and past participle of afflate.\n",
      "[] \n",
      "\n",
      "adjective\n",
      "inspired\n",
      "[] \n",
      "\n",
      "autolyzed\n",
      "But it is also made up of several other ingredients that I have no idea what they actually are: wheat starch, dextrose, safflower oil, sodium phosphates and something called autolyzed yeast extract.\n",
      "verb\n",
      "Simple past tense and past participle of autolyze.\n",
      "[] \n",
      "\n",
      "puerilism\n",
      "Instead of playing with the freedom and intensity of children, they play with the \"blend of adolescence and barbarity\" that Huizinga calls puerilism, investing games with patriotic and martial fervor while treating serious pursuits as if they were games.\n",
      "noun\n",
      "Childish behavior in an adult, especially as a symptom of mental illness.\n",
      "[] \n",
      "\n",
      "forceable\n",
      "The Huckster suggested that if he was President, that ME Peace would be gained through forceable \"Transfer\" of \"so-called\" Palestinians to Egypt or Saudi Arabia where \"there is lots of land\".\n",
      "adjective\n",
      "Able to be forced\n",
      "[] \n",
      "\n",
      "mucronate\n",
      "Another water lily used as food in the same manner is N. lotus L. (English: white lotus, winter lotus, Luo: yunga) which is much like N. nouchali but with white-to-cream flowers and toothed leaves which have a sharp point at the tip (mucronate).\n",
      "adjective\n",
      "Of or having a mucro; ending abruptly in a sharp point:  mucronate feathers; a mucronate leaf. \n",
      "[] \n",
      "\n",
      "obversion\n",
      "It turns out that Strawson's revision of truth conditions does preserve the principles of SQUARE (these can easily be checked by cases), [27] but not the additional conversion principles of [SQUARE], and also not the traditional principles of contraposition or obversion.\n",
      "noun\n",
      "The process of obverting or the condition so resulting.\n",
      "[] \n",
      "\n",
      "noun\n",
      "Logic   Inference of the obverse of a proposition.\n",
      "[] \n",
      "\n",
      "erumpent\n",
      "Was it so peculiar to scan each of these acquaintances respectively with circumspect glances, to do so apprehensively (more apprehensively and yet more often to the male than the female of this brother and sister combination as she, whom he barely knew at all, was nearer and the sexual interest would be more conspicuous), and to let the erumpent odors of both, imagined or real, send him on\n",
      "adjective\n",
      "Bursting through or as if through a surface or covering.\n",
      "[] \n",
      "\n",
      "quincunx\n",
      "There is also one extra division of 150 degrees, the quincunx, which is an aspect of change.\n",
      "noun\n",
      "An arrangement of five objects with one at each corner of a rectangle or square and one at the center.\n",
      "[] \n",
      "\n",
      "xerophagy\n",
      "In the Greek Church the law of abstinence is designated by the term xerophagy in contradistinction to monophagy, signifying the law of fasting.\n",
      "noun\n",
      "A restrictive diet (of bread and water, for example) as a punishment or religious form of discipline.\n",
      "[] \n",
      "\n",
      "corticate\n",
      "I also have a fuzzy impression that if your OpenVPN server uses a certificate from a third party CA, then anyone else with a corticate from that CA can also connect.\n",
      "adjective\n",
      "Having a cortex or a similar specialized outer layer.\n",
      "[] \n",
      "\n",
      "pendentive\n",
      "The most remarkable part of the structure is the cupola, terminating in an octagonal lantern, and supported on pendentive arches.\n",
      "noun\n",
      "Architecture   A triangular section of vaulting between the rim of a dome and each adjacent pair of the arches that support it.\n",
      "[] \n",
      "\n",
      "phatic\n",
      "Weed was the reason girls selected clothes based on fuzziness, the reason boys sounded dumb, the reason we inflected every sentence as a question and usedlike andyou know as phatic communications.\n",
      "adjective\n",
      "Of, relating to, or being speech used to share feelings or to establish a mood of sociability rather than to communicate information or ideas.\n",
      "[] \n",
      "\n",
      "fulvous\n",
      "\"The difference the professor points out, namely the fulvous colour and the thinner undeveloped horns, exist in various specimens of the\n",
      "adjective\n",
      "Tawny-coloured.\n",
      "[] \n",
      "\n",
      "passible\n",
      "However, it also ends in the letters -ss, suggesting that the adjectival form should be \"passible.\"\n",
      "adjective\n",
      "Capable of feeling or suffering; sensitive:  a passible type of personality. \n",
      "[] \n",
      "\n",
      "tyronism\n",
      "--DNFEEE\n",
      "noun\n",
      "the condition of being a tyro\n",
      "[] \n",
      "\n",
      "strabismic\n",
      "The biologist muttered something that sounded like \"The erysipelatous, strabismic, steatopygean ...\"\n",
      "adjective\n",
      "Afflicted with, or pertaining to, strabismus.\n",
      "[] \n",
      "\n",
      "figurant\n",
      "Or nous sommes confrontés à un énorme problème d'opacité: nous sommes incapables d'évaluer la quantité de toxiques bancaires figurant encore au bilan des banques du fait du processus de titrisation\n",
      "noun\n",
      "A member of a corps de ballet who does not perform solos.\n",
      "[] \n",
      "\n",
      "noun\n",
      "A stage performer having no speaking part.\n",
      "[] \n",
      "\n",
      "piacular\n",
      "I felt the glow of success, raising an academic paper from a piacular rite to -- dare I say it -- art.\n",
      "adjective\n",
      "Making expiation or atonement for a sacrilege:  piacular sacrifice. \n",
      "[] \n",
      "\n",
      "adjective\n",
      "Requiring expiation; wicked or blameworthy.\n",
      "[] \n",
      "\n",
      "perpend\n",
      "Learn of the wise, and perpend: civet is of a baser birth than tar, the very uncleanly flux of a cat.\n",
      "verb-transitive\n",
      "To consider carefully; ponder.\n",
      "[] \n",
      "\n",
      "verb-intransitive\n",
      "To be attentive; reflect.\n",
      "[] \n",
      "\n"
     ]
    }
   ],
   "source": [
    "wordApi = WordApi.WordApi(client)\n",
    "\n",
    "wd_list = ['sangfroid', 'unbidden', 'impartible', 'catastatic', 'exordial', 'pomander',\n",
    " 'increscent', 'afflated', 'autolyzed', 'puerilism', 'forceable', 'mucronate',\n",
    " 'obversion', 'erumpent', 'quincunx', 'xerophagy', 'corticate', 'pendentive',\n",
    " 'phatic', 'fulvous', 'passible', 'tyronism', 'strabismic', 'figurant',\n",
    " 'piacular', 'perpend']\n",
    "\n",
    "for word in wd_list:\n",
    "    print(word)\n",
    "    try:\n",
    "        example = wordApi.getTopExample(word)\n",
    "        print(example.text)\n",
    "    except:\n",
    "        print(\"--DNFEEE\")\n",
    "\n",
    "    defn = wordApi.getDefinitions(word)\n",
    "    if defn is not None:\n",
    "        for d in defn:\n",
    "            print(d.partOfSpeech)\n",
    "            print(d.text)\n",
    "            print(d.exampleUses, \"\\n\")\n",
    "    else:\n",
    "        print(\"--DNFD\")"
   ]
  },
  {
   "cell_type": "code",
   "execution_count": 71,
   "metadata": {
    "collapsed": true
   },
   "outputs": [],
   "source": [
    "import ast"
   ]
  },
  {
   "cell_type": "code",
   "execution_count": 78,
   "metadata": {
    "collapsed": true
   },
   "outputs": [],
   "source": [
    "d = pd.read_csv('My_Dictionary.csv')"
   ]
  },
  {
   "cell_type": "code",
   "execution_count": 74,
   "metadata": {},
   "outputs": [
    {
     "name": "stdout",
     "output_type": "stream",
     "text": [
      "<class 'dict'>\n"
     ]
    },
    {
     "ename": "ValueError",
     "evalue": "too many values to unpack (expected 2)",
     "output_type": "error",
     "traceback": [
      "\u001b[0;31m---------------------------------------------------------------------------\u001b[0m",
      "\u001b[0;31mValueError\u001b[0m                                Traceback (most recent call last)",
      "\u001b[0;32m<ipython-input-74-3d9a1a7db911>\u001b[0m in \u001b[0;36m<module>\u001b[0;34m()\u001b[0m\n\u001b[1;32m      1\u001b[0m \u001b[0mdefn_str\u001b[0m \u001b[0;34m=\u001b[0m \u001b[0md\u001b[0m\u001b[0;34m[\u001b[0m\u001b[0md\u001b[0m\u001b[0;34m.\u001b[0m\u001b[0mWord\u001b[0m \u001b[0;34m==\u001b[0m \u001b[0mword\u001b[0m\u001b[0;34m]\u001b[0m\u001b[0;34m[\u001b[0m\u001b[0;34m'Definition'\u001b[0m\u001b[0;34m]\u001b[0m\u001b[0;34m.\u001b[0m\u001b[0mvalues\u001b[0m\u001b[0;34m[\u001b[0m\u001b[0;36m0\u001b[0m\u001b[0;34m]\u001b[0m\u001b[0;34m\u001b[0m\u001b[0m\n\u001b[1;32m      2\u001b[0m \u001b[0mprint\u001b[0m\u001b[0;34m(\u001b[0m\u001b[0mtype\u001b[0m\u001b[0;34m(\u001b[0m\u001b[0mast\u001b[0m\u001b[0;34m.\u001b[0m\u001b[0mliteral_eval\u001b[0m\u001b[0;34m(\u001b[0m\u001b[0mdefn_str\u001b[0m\u001b[0;34m)\u001b[0m\u001b[0;34m)\u001b[0m\u001b[0;34m)\u001b[0m\u001b[0;34m\u001b[0m\u001b[0m\n\u001b[0;32m----> 3\u001b[0;31m \u001b[0;32mfor\u001b[0m \u001b[0mk\u001b[0m\u001b[0;34m,\u001b[0m \u001b[0mv\u001b[0m \u001b[0;32min\u001b[0m \u001b[0mast\u001b[0m\u001b[0;34m.\u001b[0m\u001b[0mliteral_eval\u001b[0m\u001b[0;34m(\u001b[0m\u001b[0mdefn_str\u001b[0m\u001b[0;34m)\u001b[0m\u001b[0;34m:\u001b[0m\u001b[0;34m\u001b[0m\u001b[0m\n\u001b[0m\u001b[1;32m      4\u001b[0m     \u001b[0mprint\u001b[0m\u001b[0;34m(\u001b[0m\u001b[0mk\u001b[0m\u001b[0;34m,\u001b[0m \u001b[0mv\u001b[0m\u001b[0;34m)\u001b[0m\u001b[0;34m\u001b[0m\u001b[0m\n",
      "\u001b[0;31mValueError\u001b[0m: too many values to unpack (expected 2)"
     ]
    }
   ],
   "source": [
    "defn_str = d[d.Word == word]['Definition'].values[0]\n",
    "print(type(ast.literal_eval(defn_str)))\n",
    "for k, v in ast.literal_eval(defn_str):\n",
    "    print(k, v)"
   ]
  },
  {
   "cell_type": "code",
   "execution_count": 68,
   "metadata": {},
   "outputs": [
    {
     "ename": "ValueError",
     "evalue": "dictionary update sequence element #0 has length 1; 2 is required",
     "output_type": "error",
     "traceback": [
      "\u001b[0;31m---------------------------------------------------------------------------\u001b[0m",
      "\u001b[0;31mValueError\u001b[0m                                Traceback (most recent call last)",
      "\u001b[0;32m<ipython-input-68-018834802aa0>\u001b[0m in \u001b[0;36m<module>\u001b[0;34m()\u001b[0m\n\u001b[1;32m      1\u001b[0m \u001b[0mdefn_str\u001b[0m \u001b[0;34m=\u001b[0m \u001b[0md\u001b[0m\u001b[0;34m[\u001b[0m\u001b[0md\u001b[0m\u001b[0;34m.\u001b[0m\u001b[0mWord\u001b[0m \u001b[0;34m==\u001b[0m \u001b[0mword\u001b[0m\u001b[0;34m]\u001b[0m\u001b[0;34m[\u001b[0m\u001b[0;34m'Definition'\u001b[0m\u001b[0;34m]\u001b[0m\u001b[0;34m.\u001b[0m\u001b[0mvalues\u001b[0m\u001b[0;34m[\u001b[0m\u001b[0;36m0\u001b[0m\u001b[0;34m]\u001b[0m\u001b[0;34m\u001b[0m\u001b[0m\n\u001b[0;32m----> 2\u001b[0;31m \u001b[0;32mfor\u001b[0m \u001b[0mpos\u001b[0m\u001b[0;34m,\u001b[0m \u001b[0mdefn_list\u001b[0m \u001b[0;32min\u001b[0m \u001b[0mdict\u001b[0m\u001b[0;34m(\u001b[0m\u001b[0mdefn_str\u001b[0m\u001b[0;34m)\u001b[0m\u001b[0;34m:\u001b[0m\u001b[0;34m\u001b[0m\u001b[0m\n\u001b[0m\u001b[1;32m      3\u001b[0m     \u001b[0mprint\u001b[0m\u001b[0;34m(\u001b[0m\u001b[0mpos\u001b[0m \u001b[0;34m+\u001b[0m \u001b[0;34m\":\"\u001b[0m\u001b[0;34m)\u001b[0m\u001b[0;34m\u001b[0m\u001b[0m\n\u001b[1;32m      4\u001b[0m     \u001b[0;32mfor\u001b[0m \u001b[0mdefn\u001b[0m \u001b[0;32min\u001b[0m \u001b[0mdefn_list\u001b[0m\u001b[0;34m:\u001b[0m\u001b[0;34m\u001b[0m\u001b[0m\n\u001b[1;32m      5\u001b[0m         \u001b[0mprint\u001b[0m\u001b[0;34m(\u001b[0m\u001b[0;34m\"  \"\u001b[0m\u001b[0;34m,\u001b[0m \u001b[0mdefn\u001b[0m\u001b[0;34m,\u001b[0m \u001b[0;34m\"\\n\"\u001b[0m\u001b[0;34m)\u001b[0m\u001b[0;34m\u001b[0m\u001b[0m\n",
      "\u001b[0;31mValueError\u001b[0m: dictionary update sequence element #0 has length 1; 2 is required"
     ]
    }
   ],
   "source": [
    "for pos, defn_list in dict(defn_str):\n",
    "    print(pos + \":\")\n",
    "    for defn in defn_list:\n",
    "        print(\"  \", defn, \"\\n\")"
   ]
  },
  {
   "cell_type": "code",
   "execution_count": 82,
   "metadata": {},
   "outputs": [
    {
     "data": {
      "text/html": [
       "<div>\n",
       "<style>\n",
       "    .dataframe thead tr:only-child th {\n",
       "        text-align: right;\n",
       "    }\n",
       "\n",
       "    .dataframe thead th {\n",
       "        text-align: left;\n",
       "    }\n",
       "\n",
       "    .dataframe tbody tr th {\n",
       "        vertical-align: top;\n",
       "    }\n",
       "</style>\n",
       "<table border=\"1\" class=\"dataframe\">\n",
       "  <thead>\n",
       "    <tr style=\"text-align: right;\">\n",
       "      <th></th>\n",
       "      <th>Word</th>\n",
       "      <th>Definition</th>\n",
       "    </tr>\n",
       "  </thead>\n",
       "  <tbody>\n",
       "    <tr>\n",
       "      <th>0</th>\n",
       "      <td>aberration</td>\n",
       "      <td>{'Noun': ['a state or condition markedly diffe...</td>\n",
       "    </tr>\n",
       "    <tr>\n",
       "      <th>1</th>\n",
       "      <td>abject</td>\n",
       "      <td>{'Adjective': ['of the most contemptible kind'...</td>\n",
       "    </tr>\n",
       "    <tr>\n",
       "      <th>2</th>\n",
       "      <td>abjure</td>\n",
       "      <td>{'Verb': ['formally reject or disavow a former...</td>\n",
       "    </tr>\n",
       "    <tr>\n",
       "      <th>3</th>\n",
       "      <td>ablated</td>\n",
       "      <td>{'Verb': ['wear away through erosion or vapori...</td>\n",
       "    </tr>\n",
       "    <tr>\n",
       "      <th>4</th>\n",
       "      <td>ablution</td>\n",
       "      <td>{'Noun': [\"the ritual washing of a priest's ha...</td>\n",
       "    </tr>\n",
       "  </tbody>\n",
       "</table>\n",
       "</div>"
      ],
      "text/plain": [
       "         Word                                         Definition\n",
       "0  aberration  {'Noun': ['a state or condition markedly diffe...\n",
       "1      abject  {'Adjective': ['of the most contemptible kind'...\n",
       "2      abjure  {'Verb': ['formally reject or disavow a former...\n",
       "3     ablated  {'Verb': ['wear away through erosion or vapori...\n",
       "4    ablution  {'Noun': [\"the ritual washing of a priest's ha..."
      ]
     },
     "execution_count": 82,
     "metadata": {},
     "output_type": "execute_result"
    }
   ],
   "source": [
    "d.head()"
   ]
  },
  {
   "cell_type": "code",
   "execution_count": 81,
   "metadata": {},
   "outputs": [],
   "source": [
    "d.sort_values('Word', inplace=True)\n",
    "d.reset_index(drop=True, inplace=True)"
   ]
  },
  {
   "cell_type": "code",
   "execution_count": null,
   "metadata": {
    "collapsed": true
   },
   "outputs": [],
   "source": []
  }
 ],
 "metadata": {
  "kernelspec": {
   "display_name": "Python 3",
   "language": "python",
   "name": "python3"
  },
  "language_info": {
   "codemirror_mode": {
    "name": "ipython",
    "version": 3
   },
   "file_extension": ".py",
   "mimetype": "text/x-python",
   "name": "python",
   "nbconvert_exporter": "python",
   "pygments_lexer": "ipython3",
   "version": "3.6.1"
  }
 },
 "nbformat": 4,
 "nbformat_minor": 2
}
